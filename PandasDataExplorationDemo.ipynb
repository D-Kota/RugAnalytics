{
 "cells": [
  {
   "cell_type": "code",
   "execution_count": 2,
   "metadata": {},
   "outputs": [],
   "source": [
    "# This is a demonstration of some data exploration capabilities using the RandomRugData dataset and Pandas\n",
    "# We will find the top vendors, top rug collections, and top rug styles."
   ]
  },
  {
   "cell_type": "code",
   "execution_count": 3,
   "metadata": {},
   "outputs": [],
   "source": [
    "#start by importing pandas and numpy\n",
    "import pandas as pd"
   ]
  },
  {
   "cell_type": "code",
   "execution_count": 4,
   "metadata": {},
   "outputs": [
    {
     "data": {
      "text/html": [
       "<div>\n",
       "<style scoped>\n",
       "    .dataframe tbody tr th:only-of-type {\n",
       "        vertical-align: middle;\n",
       "    }\n",
       "\n",
       "    .dataframe tbody tr th {\n",
       "        vertical-align: top;\n",
       "    }\n",
       "\n",
       "    .dataframe thead th {\n",
       "        text-align: right;\n",
       "    }\n",
       "</style>\n",
       "<table border=\"1\" class=\"dataframe\">\n",
       "  <thead>\n",
       "    <tr style=\"text-align: right;\">\n",
       "      <th></th>\n",
       "      <th>Unnamed: 0</th>\n",
       "      <th>Invoice#</th>\n",
       "      <th>Date</th>\n",
       "      <th>Vendor</th>\n",
       "      <th>Collection</th>\n",
       "      <th>StyleNumber</th>\n",
       "      <th>SizeExact</th>\n",
       "      <th>SizeGroup</th>\n",
       "      <th>RedPrice</th>\n",
       "      <th>Discount</th>\n",
       "      <th>...</th>\n",
       "      <th>StyleGroup</th>\n",
       "      <th>StyleGroup2</th>\n",
       "      <th>DomColor</th>\n",
       "      <th>MinColor</th>\n",
       "      <th>ConstructionType</th>\n",
       "      <th>Material</th>\n",
       "      <th>Pad</th>\n",
       "      <th>CustomerID</th>\n",
       "      <th>S/O</th>\n",
       "      <th>InvoiceTotal</th>\n",
       "    </tr>\n",
       "  </thead>\n",
       "  <tbody>\n",
       "    <tr>\n",
       "      <th>0</th>\n",
       "      <td>0</td>\n",
       "      <td>12006</td>\n",
       "      <td>2022-04-11</td>\n",
       "      <td>DynamicRugs</td>\n",
       "      <td>Canberra</td>\n",
       "      <td>330077</td>\n",
       "      <td>10x14</td>\n",
       "      <td>10</td>\n",
       "      <td>1210.05</td>\n",
       "      <td>179.31</td>\n",
       "      <td>...</td>\n",
       "      <td>Traditional</td>\n",
       "      <td>Medallion</td>\n",
       "      <td>Green</td>\n",
       "      <td>Red</td>\n",
       "      <td>tufted</td>\n",
       "      <td>Wool</td>\n",
       "      <td>1</td>\n",
       "      <td>6624931846</td>\n",
       "      <td>0</td>\n",
       "      <td>1030.74</td>\n",
       "    </tr>\n",
       "    <tr>\n",
       "      <th>1</th>\n",
       "      <td>1</td>\n",
       "      <td>12017</td>\n",
       "      <td>2023-10-21</td>\n",
       "      <td>DynamicRugs</td>\n",
       "      <td>Oslo</td>\n",
       "      <td>669653</td>\n",
       "      <td>8x11</td>\n",
       "      <td>8</td>\n",
       "      <td>806.02</td>\n",
       "      <td>0.00</td>\n",
       "      <td>...</td>\n",
       "      <td>Contemporary</td>\n",
       "      <td>Heriz</td>\n",
       "      <td>Brown</td>\n",
       "      <td>Taupe</td>\n",
       "      <td>Printed</td>\n",
       "      <td>Polyester</td>\n",
       "      <td>1</td>\n",
       "      <td>3640045567</td>\n",
       "      <td>1</td>\n",
       "      <td>806.02</td>\n",
       "    </tr>\n",
       "    <tr>\n",
       "      <th>2</th>\n",
       "      <td>2</td>\n",
       "      <td>12018</td>\n",
       "      <td>2024-08-29</td>\n",
       "      <td>Orian</td>\n",
       "      <td>Doha</td>\n",
       "      <td>777019</td>\n",
       "      <td>8 Round</td>\n",
       "      <td>8</td>\n",
       "      <td>841.93</td>\n",
       "      <td>111.56</td>\n",
       "      <td>...</td>\n",
       "      <td>Traditional</td>\n",
       "      <td>Solid</td>\n",
       "      <td>Brown</td>\n",
       "      <td>Red</td>\n",
       "      <td>tufted</td>\n",
       "      <td>Wool</td>\n",
       "      <td>1</td>\n",
       "      <td>4077175238</td>\n",
       "      <td>1</td>\n",
       "      <td>730.37</td>\n",
       "    </tr>\n",
       "    <tr>\n",
       "      <th>3</th>\n",
       "      <td>3</td>\n",
       "      <td>12022</td>\n",
       "      <td>2024-07-23</td>\n",
       "      <td>Karastan</td>\n",
       "      <td>Moroni</td>\n",
       "      <td>389039</td>\n",
       "      <td>10x14</td>\n",
       "      <td>10</td>\n",
       "      <td>1214.30</td>\n",
       "      <td>210.89</td>\n",
       "      <td>...</td>\n",
       "      <td>Transitional</td>\n",
       "      <td>Heriz</td>\n",
       "      <td>Brown</td>\n",
       "      <td>Navy</td>\n",
       "      <td>HM</td>\n",
       "      <td>Wool</td>\n",
       "      <td>0</td>\n",
       "      <td>1922803516</td>\n",
       "      <td>1</td>\n",
       "      <td>1003.41</td>\n",
       "    </tr>\n",
       "    <tr>\n",
       "      <th>4</th>\n",
       "      <td>4</td>\n",
       "      <td>12026</td>\n",
       "      <td>2024-09-23</td>\n",
       "      <td>Dalyn</td>\n",
       "      <td>Kuala Lumpur</td>\n",
       "      <td>771563</td>\n",
       "      <td>12x15</td>\n",
       "      <td>12</td>\n",
       "      <td>2003.21</td>\n",
       "      <td>234.05</td>\n",
       "      <td>...</td>\n",
       "      <td>Contemporary</td>\n",
       "      <td>Heriz</td>\n",
       "      <td>Gray</td>\n",
       "      <td>Ivory</td>\n",
       "      <td>tufted</td>\n",
       "      <td>Wool</td>\n",
       "      <td>0</td>\n",
       "      <td>1549432886</td>\n",
       "      <td>0</td>\n",
       "      <td>1769.16</td>\n",
       "    </tr>\n",
       "  </tbody>\n",
       "</table>\n",
       "<p>5 rows × 21 columns</p>\n",
       "</div>"
      ],
      "text/plain": [
       "   Unnamed: 0  Invoice#        Date       Vendor    Collection  StyleNumber  \\\n",
       "0           0     12006  2022-04-11  DynamicRugs      Canberra       330077   \n",
       "1           1     12017  2023-10-21  DynamicRugs          Oslo       669653   \n",
       "2           2     12018  2024-08-29        Orian          Doha       777019   \n",
       "3           3     12022  2024-07-23     Karastan        Moroni       389039   \n",
       "4           4     12026  2024-09-23        Dalyn  Kuala Lumpur       771563   \n",
       "\n",
       "  SizeExact  SizeGroup  RedPrice  Discount  ...    StyleGroup StyleGroup2  \\\n",
       "0     10x14         10   1210.05    179.31  ...   Traditional   Medallion   \n",
       "1      8x11          8    806.02      0.00  ...  Contemporary       Heriz   \n",
       "2   8 Round          8    841.93    111.56  ...   Traditional       Solid   \n",
       "3     10x14         10   1214.30    210.89  ...  Transitional       Heriz   \n",
       "4     12x15         12   2003.21    234.05  ...  Contemporary       Heriz   \n",
       "\n",
       "  DomColor MinColor ConstructionType   Material Pad  CustomerID  S/O  \\\n",
       "0    Green      Red           tufted       Wool   1  6624931846    0   \n",
       "1    Brown    Taupe          Printed  Polyester   1  3640045567    1   \n",
       "2    Brown      Red           tufted       Wool   1  4077175238    1   \n",
       "3    Brown     Navy               HM       Wool   0  1922803516    1   \n",
       "4     Gray    Ivory           tufted       Wool   0  1549432886    0   \n",
       "\n",
       "   InvoiceTotal  \n",
       "0       1030.74  \n",
       "1        806.02  \n",
       "2        730.37  \n",
       "3       1003.41  \n",
       "4       1769.16  \n",
       "\n",
       "[5 rows x 21 columns]"
      ]
     },
     "execution_count": 4,
     "metadata": {},
     "output_type": "execute_result"
    }
   ],
   "source": [
    "#lets load in the data\n",
    "df = pd.read_csv(r'RandomRugData.csv')\n",
    "df.head()"
   ]
  },
  {
   "cell_type": "code",
   "execution_count": 5,
   "metadata": {},
   "outputs": [],
   "source": [
    "# This data is randomly generated and all records are complete, no data cleaning will be necessary"
   ]
  },
  {
   "cell_type": "code",
   "execution_count": 6,
   "metadata": {},
   "outputs": [
    {
     "data": {
      "text/plain": [
       "array(['DynamicRugs', 'Orian', 'Karastan', 'Dalyn', 'Surya', 'Rizzy',\n",
       "       'Kas', 'Artisan', 'OrientalWeavers', 'PersianWeavers', 'Couristan'],\n",
       "      dtype=object)"
      ]
     },
     "execution_count": 6,
     "metadata": {},
     "output_type": "execute_result"
    }
   ],
   "source": [
    "#lets find a list of all the vendors\n",
    "df['Vendor'].unique()"
   ]
  },
  {
   "cell_type": "code",
   "execution_count": 7,
   "metadata": {},
   "outputs": [
    {
     "data": {
      "text/plain": [
       "Vendor\n",
       "Couristan          70373.08\n",
       "Kas                69925.92\n",
       "DynamicRugs        66794.59\n",
       "Orian              66698.70\n",
       "PersianWeavers     66058.74\n",
       "Dalyn              65141.02\n",
       "Karastan           60037.57\n",
       "Rizzy              56879.14\n",
       "OrientalWeavers    52902.91\n",
       "Artisan            51740.55\n",
       "Surya              29028.82\n",
       "Name: SalePrice, dtype: float64"
      ]
     },
     "execution_count": 7,
     "metadata": {},
     "output_type": "execute_result"
    }
   ],
   "source": [
    "#We can now find sales totals by vendor and sort them in descending order\n",
    "df.groupby('Vendor')['SalePrice'].sum().sort_values(ascending=False)"
   ]
  },
  {
   "cell_type": "code",
   "execution_count": 8,
   "metadata": {},
   "outputs": [],
   "source": [
    "#We see that Couristan is the top vendor in this data but there is a pretty even split between the next 9 vendors"
   ]
  },
  {
   "cell_type": "code",
   "execution_count": 9,
   "metadata": {},
   "outputs": [
    {
     "data": {
      "text/plain": [
       "Collection\n",
       "Asuncion        7636.17\n",
       "Banjul          7107.94\n",
       "Sarajevo        6916.90\n",
       "Panama City     5816.51\n",
       "Baku            4991.30\n",
       "Dodoma          4916.44\n",
       "Taipei          4853.24\n",
       "Lima            4610.67\n",
       "Monaco          4583.08\n",
       "Valletta        4039.56\n",
       "Yaounde         4018.71\n",
       "Madrid          3059.35\n",
       "Algiers         3058.17\n",
       "Antananarivo    2635.27\n",
       "Chisinau        1375.83\n",
       "Kyiv             753.94\n",
       "Name: SalePrice, dtype: float64"
      ]
     },
     "execution_count": 9,
     "metadata": {},
     "output_type": "execute_result"
    }
   ],
   "source": [
    "#lets find the total sales for each rug collection sold by Couristan and sort in descending order\n",
    "df[df['Vendor'] == 'Couristan'].groupby('Collection')['SalePrice'].sum().sort_values(ascending=False)"
   ]
  },
  {
   "cell_type": "code",
   "execution_count": 10,
   "metadata": {},
   "outputs": [
    {
     "data": {
      "text/plain": [
       "Collection\n",
       "Andorra la Vella    10417.93\n",
       "Moscow              10170.74\n",
       "Skopje              10140.64\n",
       "Victoria             9657.83\n",
       "Paramaribo           9531.12\n",
       "Ulaanbaatar          7941.04\n",
       "Asuncion             7636.17\n",
       "Dakar                7626.35\n",
       "Dublin               7603.31\n",
       "La Paz               7550.55\n",
       "Name: SalePrice, dtype: float64"
      ]
     },
     "execution_count": 10,
     "metadata": {},
     "output_type": "execute_result"
    }
   ],
   "source": [
    "# I wonder if there are any collections that do really well for a vendor that isnt a top saler\n",
    "\n",
    "#lets find the top rug collections by sales and display their collection name\n",
    "df.groupby('Collection')['SalePrice'].sum().sort_values(ascending=False).head(10)"
   ]
  },
  {
   "cell_type": "code",
   "execution_count": 11,
   "metadata": {},
   "outputs": [],
   "source": [
    "# only one Couristan rug is in our top ten performing collections\n",
    "# This means that Couristan sales are more evenly distrubuted than other vendors"
   ]
  },
  {
   "cell_type": "code",
   "execution_count": 12,
   "metadata": {},
   "outputs": [
    {
     "data": {
      "text/plain": [
       "array(['PersianWeavers', 'Orian', 'Artisan'], dtype=object)"
      ]
     },
     "execution_count": 12,
     "metadata": {},
     "output_type": "execute_result"
    }
   ],
   "source": [
    "# lets see which vendors our top three collections belong to\n",
    "df[df['Collection'].isin(['Andorra la Vella', 'Moscow', 'Skopje'])]['Vendor'].unique()"
   ]
  },
  {
   "cell_type": "code",
   "execution_count": 13,
   "metadata": {},
   "outputs": [],
   "source": [
    "# The collection in the Artisan vendor is interesting because that vendor is second to last in sales by vendor\n"
   ]
  },
  {
   "cell_type": "code",
   "execution_count": 14,
   "metadata": {},
   "outputs": [
    {
     "data": {
      "text/plain": [
       "Collection\n",
       "Moscow       10170.74\n",
       "Riyadh        6673.86\n",
       "Podgorica     5797.53\n",
       "Amsterdam     5610.55\n",
       "Zagreb        5401.15\n",
       "Monrovia      4960.28\n",
       "Helsinki      3783.90\n",
       "Damascus      3199.32\n",
       "Sofia         3166.58\n",
       "Ottawa        2424.14\n",
       "Belmopan       552.50\n",
       "Name: SalePrice, dtype: float64"
      ]
     },
     "execution_count": 14,
     "metadata": {},
     "output_type": "execute_result"
    }
   ],
   "source": [
    "# Collection sales totals for Artisan\n",
    "df[df['Vendor'] == 'Artisan'].groupby('Collection')['SalePrice'].sum().sort_values(ascending=False)"
   ]
  },
  {
   "cell_type": "code",
   "execution_count": 15,
   "metadata": {},
   "outputs": [],
   "source": [
    "# The collections on the lower end of sales for Artisan can be re-evaluated. Maybe there are some issues with these collections, are they worth bringing back?"
   ]
  },
  {
   "cell_type": "code",
   "execution_count": 16,
   "metadata": {},
   "outputs": [
    {
     "data": {
      "text/plain": [
       "Collection\n",
       "Lisbon               334.94\n",
       "Belmopan             552.50\n",
       "Amman                578.01\n",
       "Tokyo                677.52\n",
       "Washington, D.C.     697.46\n",
       "Kyiv                 753.94\n",
       "Ouagadougou          928.76\n",
       "Bratislava           937.76\n",
       "San Marino          1085.49\n",
       "Riga                1286.30\n",
       "Name: SalePrice, dtype: float64"
      ]
     },
     "execution_count": 16,
     "metadata": {},
     "output_type": "execute_result"
    }
   ],
   "source": [
    "# Lets find the lowest saling rug collections\n",
    "df.groupby('Collection')['SalePrice'].sum().sort_values(ascending=True).head(10)"
   ]
  },
  {
   "cell_type": "code",
   "execution_count": 17,
   "metadata": {},
   "outputs": [],
   "source": [
    "# These collections should also be re-evaluated to see if they are worth bringing back"
   ]
  },
  {
   "cell_type": "code",
   "execution_count": 18,
   "metadata": {},
   "outputs": [
    {
     "data": {
      "text/plain": [
       "StyleGroup\n",
       "Traditional     415489.81\n",
       "Transitional    124369.86\n",
       "Contemporary    115721.37\n",
       "Name: SalePrice, dtype: float64"
      ]
     },
     "execution_count": 18,
     "metadata": {},
     "output_type": "execute_result"
    }
   ],
   "source": [
    "# Now lets see sales totals for each rug style group\n",
    "df.groupby('StyleGroup')['SalePrice'].sum().sort_values(ascending=False)"
   ]
  },
  {
   "cell_type": "code",
   "execution_count": 19,
   "metadata": {},
   "outputs": [],
   "source": [
    "# Traditional rugs are the most popular rug style group by a good amount"
   ]
  },
  {
   "cell_type": "code",
   "execution_count": 20,
   "metadata": {},
   "outputs": [
    {
     "data": {
      "text/plain": [
       "DomColor\n",
       "Gold     53645.94\n",
       "Ivory    51806.59\n",
       "Beige    46822.61\n",
       "Blue     44958.82\n",
       "Taupe    44258.85\n",
       "Gray     40192.96\n",
       "Green    37089.44\n",
       "Red      35876.82\n",
       "Brown    31880.17\n",
       "Navy     28957.61\n",
       "Name: SalePrice, dtype: float64"
      ]
     },
     "execution_count": 20,
     "metadata": {},
     "output_type": "execute_result"
    }
   ],
   "source": [
    "# What dominant colors are popular with traditinal rugs sold?\n",
    "df[df['StyleGroup'] == 'Traditional'].groupby('DomColor')['SalePrice'].sum().sort_values(ascending=False).head(10)"
   ]
  },
  {
   "cell_type": "code",
   "execution_count": 21,
   "metadata": {},
   "outputs": [],
   "source": [
    "# We now know what rug vendors, collections, and styles have been popular with the business."
   ]
  },
  {
   "cell_type": "code",
   "execution_count": null,
   "metadata": {},
   "outputs": [
    {
     "data": {
      "text/plain": [
       "StyleGroup\n",
       "Contemporary    792.612123\n",
       "Traditional     816.286464\n",
       "Transitional    857.723172\n",
       "Name: SalePrice, dtype: float64"
      ]
     },
     "execution_count": 22,
     "metadata": {},
     "output_type": "execute_result"
    }
   ],
   "source": [
    "# What is the average sale price for each rug style group?\n",
    "df.groupby('StyleGroup')['SalePrice'].mean()"
   ]
  },
  {
   "cell_type": "code",
   "execution_count": 28,
   "metadata": {},
   "outputs": [
    {
     "data": {
      "text/plain": [
       "0.5325"
      ]
     },
     "execution_count": 28,
     "metadata": {},
     "output_type": "execute_result"
    }
   ],
   "source": [
    "# How many of the transactions had a discount applied?\n",
    "(df[df['Discount'] > 0].shape[0])/df.shape[0]"
   ]
  }
 ],
 "metadata": {
  "kernelspec": {
   "display_name": "Python 3",
   "language": "python",
   "name": "python3"
  },
  "language_info": {
   "codemirror_mode": {
    "name": "ipython",
    "version": 3
   },
   "file_extension": ".py",
   "mimetype": "text/x-python",
   "name": "python",
   "nbconvert_exporter": "python",
   "pygments_lexer": "ipython3",
   "version": "3.11.3"
  }
 },
 "nbformat": 4,
 "nbformat_minor": 2
}
