{
 "cells": [
  {
   "cell_type": "code",
   "execution_count": 105,
   "id": "41e96601",
   "metadata": {},
   "outputs": [],
   "source": [
    "# In this file we will import our dataframe for the rug sales data. We will use tensor flow to build a model that predicts if a rugs DSI will be below a certain threshold\n",
    "# For this project, we will want to see if a rug will sale in the first 60 days after purchase, or DSI <= 60"
   ]
  },
  {
   "cell_type": "code",
   "execution_count": 106,
   "id": "4257eb26",
   "metadata": {},
   "outputs": [],
   "source": [
    "import pandas as pd\n",
    "import numpy as np\n",
    "import tensorflow as tf"
   ]
  },
  {
   "cell_type": "code",
   "execution_count": 107,
   "id": "cdb879dd",
   "metadata": {},
   "outputs": [],
   "source": [
    "# import the data from the csv file\n",
    "df = pd.read_csv(r'C:\\Users\\dakot\\OneDrive\\Desktop\\Rug Gallery\\RugAnalytics\\RandomRugData.csv')"
   ]
  },
  {
   "cell_type": "code",
   "execution_count": 108,
   "id": "ddd07e17",
   "metadata": {},
   "outputs": [
    {
     "data": {
      "text/plain": [
       "Index(['Unnamed: 0', 'Invoice#', 'Date', 'Vendor', 'Collection', 'StyleNumber',\n",
       "       'SizeExact', 'SizeGroup', 'RedPrice', 'Discount', 'SalePrice',\n",
       "       'StyleGroup', 'StyleGroup2', 'DomColor', 'MinColor', 'ConstructionType',\n",
       "       'Material', 'Pad', 'CustomerID', 'S/O', 'InvoiceTotal', 'DSI'],\n",
       "      dtype='object')"
      ]
     },
     "execution_count": 108,
     "metadata": {},
     "output_type": "execute_result"
    }
   ],
   "source": [
    "df.columns"
   ]
  },
  {
   "cell_type": "code",
   "execution_count": 109,
   "id": "9d423256",
   "metadata": {},
   "outputs": [],
   "source": [
    "# drop columns with na\n",
    "\n",
    "df = df.dropna()"
   ]
  },
  {
   "cell_type": "code",
   "execution_count": 110,
   "id": "26be9c21",
   "metadata": {},
   "outputs": [],
   "source": [
    "#encode the target variable\n",
    "\n",
    "df['DSI'] = df['DSI'].apply(lambda x: 1 if x <= 60 else 0)"
   ]
  },
  {
   "cell_type": "code",
   "execution_count": 111,
   "id": "f2a3857d",
   "metadata": {},
   "outputs": [
    {
     "data": {
      "text/html": [
       "<div>\n",
       "<style scoped>\n",
       "    .dataframe tbody tr th:only-of-type {\n",
       "        vertical-align: middle;\n",
       "    }\n",
       "\n",
       "    .dataframe tbody tr th {\n",
       "        vertical-align: top;\n",
       "    }\n",
       "\n",
       "    .dataframe thead th {\n",
       "        text-align: right;\n",
       "    }\n",
       "</style>\n",
       "<table border=\"1\" class=\"dataframe\">\n",
       "  <thead>\n",
       "    <tr style=\"text-align: right;\">\n",
       "      <th></th>\n",
       "      <th>Unnamed: 0</th>\n",
       "      <th>Invoice#</th>\n",
       "      <th>Date</th>\n",
       "      <th>Vendor</th>\n",
       "      <th>Collection</th>\n",
       "      <th>StyleNumber</th>\n",
       "      <th>SizeExact</th>\n",
       "      <th>SizeGroup</th>\n",
       "      <th>RedPrice</th>\n",
       "      <th>Discount</th>\n",
       "      <th>...</th>\n",
       "      <th>StyleGroup2</th>\n",
       "      <th>DomColor</th>\n",
       "      <th>MinColor</th>\n",
       "      <th>ConstructionType</th>\n",
       "      <th>Material</th>\n",
       "      <th>Pad</th>\n",
       "      <th>CustomerID</th>\n",
       "      <th>S/O</th>\n",
       "      <th>InvoiceTotal</th>\n",
       "      <th>DSI</th>\n",
       "    </tr>\n",
       "  </thead>\n",
       "  <tbody>\n",
       "    <tr>\n",
       "      <th>795</th>\n",
       "      <td>795</td>\n",
       "      <td>14985</td>\n",
       "      <td>2022-12-13</td>\n",
       "      <td>Couristan</td>\n",
       "      <td>Algiers</td>\n",
       "      <td>308532</td>\n",
       "      <td>6'7x9'6</td>\n",
       "      <td>6</td>\n",
       "      <td>521.79</td>\n",
       "      <td>0.00</td>\n",
       "      <td>...</td>\n",
       "      <td>Solid</td>\n",
       "      <td>Brown</td>\n",
       "      <td>Beige</td>\n",
       "      <td>tufted</td>\n",
       "      <td>Wool</td>\n",
       "      <td>0</td>\n",
       "      <td>2969884941</td>\n",
       "      <td>1</td>\n",
       "      <td>521.79</td>\n",
       "      <td>0</td>\n",
       "    </tr>\n",
       "    <tr>\n",
       "      <th>796</th>\n",
       "      <td>796</td>\n",
       "      <td>14987</td>\n",
       "      <td>2023-07-15</td>\n",
       "      <td>Artisan</td>\n",
       "      <td>Damascus</td>\n",
       "      <td>374425</td>\n",
       "      <td>4x6</td>\n",
       "      <td>4</td>\n",
       "      <td>324.05</td>\n",
       "      <td>0.00</td>\n",
       "      <td>...</td>\n",
       "      <td>Ornate</td>\n",
       "      <td>Gold</td>\n",
       "      <td>Gray</td>\n",
       "      <td>MM</td>\n",
       "      <td>Polyester</td>\n",
       "      <td>0</td>\n",
       "      <td>2519053852</td>\n",
       "      <td>0</td>\n",
       "      <td>324.05</td>\n",
       "      <td>0</td>\n",
       "    </tr>\n",
       "    <tr>\n",
       "      <th>797</th>\n",
       "      <td>797</td>\n",
       "      <td>14988</td>\n",
       "      <td>2022-06-04</td>\n",
       "      <td>Kas</td>\n",
       "      <td>Guatemala City</td>\n",
       "      <td>231758</td>\n",
       "      <td>10x14</td>\n",
       "      <td>10</td>\n",
       "      <td>1216.78</td>\n",
       "      <td>235.98</td>\n",
       "      <td>...</td>\n",
       "      <td>Ornate</td>\n",
       "      <td>Taupe</td>\n",
       "      <td>Brown</td>\n",
       "      <td>HM</td>\n",
       "      <td>Wool</td>\n",
       "      <td>0</td>\n",
       "      <td>4842602723</td>\n",
       "      <td>1</td>\n",
       "      <td>980.80</td>\n",
       "      <td>0</td>\n",
       "    </tr>\n",
       "    <tr>\n",
       "      <th>798</th>\n",
       "      <td>798</td>\n",
       "      <td>14994</td>\n",
       "      <td>2023-03-26</td>\n",
       "      <td>OrientalWeavers</td>\n",
       "      <td>Ulaanbaatar</td>\n",
       "      <td>398581</td>\n",
       "      <td>10x14</td>\n",
       "      <td>10</td>\n",
       "      <td>1203.45</td>\n",
       "      <td>240.63</td>\n",
       "      <td>...</td>\n",
       "      <td>Abstract</td>\n",
       "      <td>Brown</td>\n",
       "      <td>Gray</td>\n",
       "      <td>tufted</td>\n",
       "      <td>Wool</td>\n",
       "      <td>0</td>\n",
       "      <td>9160685619</td>\n",
       "      <td>1</td>\n",
       "      <td>962.82</td>\n",
       "      <td>0</td>\n",
       "    </tr>\n",
       "    <tr>\n",
       "      <th>799</th>\n",
       "      <td>799</td>\n",
       "      <td>14998</td>\n",
       "      <td>2022-02-01</td>\n",
       "      <td>DynamicRugs</td>\n",
       "      <td>Santo Domingo</td>\n",
       "      <td>592319</td>\n",
       "      <td>6'7x9'6</td>\n",
       "      <td>6</td>\n",
       "      <td>470.96</td>\n",
       "      <td>0.00</td>\n",
       "      <td>...</td>\n",
       "      <td>Distressed</td>\n",
       "      <td>Gray</td>\n",
       "      <td>Navy</td>\n",
       "      <td>HM</td>\n",
       "      <td>Wool</td>\n",
       "      <td>1</td>\n",
       "      <td>7339045135</td>\n",
       "      <td>1</td>\n",
       "      <td>470.96</td>\n",
       "      <td>0</td>\n",
       "    </tr>\n",
       "  </tbody>\n",
       "</table>\n",
       "<p>5 rows × 22 columns</p>\n",
       "</div>"
      ],
      "text/plain": [
       "     Unnamed: 0  Invoice#        Date           Vendor      Collection  \\\n",
       "795         795     14985  2022-12-13        Couristan         Algiers   \n",
       "796         796     14987  2023-07-15          Artisan        Damascus   \n",
       "797         797     14988  2022-06-04              Kas  Guatemala City   \n",
       "798         798     14994  2023-03-26  OrientalWeavers     Ulaanbaatar   \n",
       "799         799     14998  2022-02-01      DynamicRugs   Santo Domingo   \n",
       "\n",
       "     StyleNumber SizeExact  SizeGroup  RedPrice  Discount  ...  StyleGroup2  \\\n",
       "795       308532   6'7x9'6          6    521.79      0.00  ...        Solid   \n",
       "796       374425       4x6          4    324.05      0.00  ...       Ornate   \n",
       "797       231758     10x14         10   1216.78    235.98  ...       Ornate   \n",
       "798       398581     10x14         10   1203.45    240.63  ...     Abstract   \n",
       "799       592319   6'7x9'6          6    470.96      0.00  ...   Distressed   \n",
       "\n",
       "    DomColor MinColor ConstructionType   Material Pad  CustomerID  S/O  \\\n",
       "795    Brown    Beige           tufted       Wool   0  2969884941    1   \n",
       "796     Gold     Gray               MM  Polyester   0  2519053852    0   \n",
       "797    Taupe    Brown               HM       Wool   0  4842602723    1   \n",
       "798    Brown     Gray           tufted       Wool   0  9160685619    1   \n",
       "799     Gray     Navy               HM       Wool   1  7339045135    1   \n",
       "\n",
       "     InvoiceTotal  DSI  \n",
       "795        521.79    0  \n",
       "796        324.05    0  \n",
       "797        980.80    0  \n",
       "798        962.82    0  \n",
       "799        470.96    0  \n",
       "\n",
       "[5 rows x 22 columns]"
      ]
     },
     "execution_count": 111,
     "metadata": {},
     "output_type": "execute_result"
    }
   ],
   "source": [
    "# check to see if target variable is encoded\n",
    "df.tail()"
   ]
  },
  {
   "cell_type": "code",
   "execution_count": 112,
   "id": "f6323ef1",
   "metadata": {},
   "outputs": [],
   "source": [
    "#split the data into train and test, we will use 80% of the data for training and 20% for testing\n",
    "\n",
    "from sklearn.model_selection import train_test_split\n",
    "\n",
    "X = df.drop('DSI', axis=1)\n",
    "y = df['DSI']\n",
    "X_train, X_test, y_train, y_test = train_test_split(X, y, test_size=0.2, random_state=42)"
   ]
  },
  {
   "cell_type": "code",
   "execution_count": 113,
   "id": "6acdaba3",
   "metadata": {},
   "outputs": [],
   "source": [
    "#we need to encode the categorical and numeric features\n",
    "numeric_features = ['RedPrice', 'Discount', 'SalePrice', 'InvoiceTotal']\n",
    "categorical_features = ['Invoice#', 'Date','Vendor', 'Collection', 'StyleNumber', 'SizeExact', 'SizeGroup', 'StyleGroup', 'StyleGroup2', 'DomColor', 'MinColor', 'ConstructionType', 'Material', 'Pad', 'S/O']"
   ]
  },
  {
   "cell_type": "code",
   "execution_count": 114,
   "id": "e6527e07",
   "metadata": {},
   "outputs": [],
   "source": [
    "# We will import the proper preprocessing libraries\n",
    "\n",
    "from sklearn.compose import ColumnTransformer\n",
    "from sklearn.preprocessing import StandardScaler, OneHotEncoder\n",
    "\n",
    "# Create the preprocessor\n",
    "preprocessor = ColumnTransformer([\n",
    "    ('num', StandardScaler(), numeric_features),\n",
    "    ('cat', OneHotEncoder(handle_unknown='ignore'), categorical_features)\n",
    "])"
   ]
  },
  {
   "cell_type": "code",
   "execution_count": 115,
   "id": "2c6201a0",
   "metadata": {},
   "outputs": [
    {
     "name": "stdout",
     "output_type": "stream",
     "text": [
      "Accuracy: 0.8375\n"
     ]
    },
    {
     "name": "stderr",
     "output_type": "stream",
     "text": [
      "c:\\Users\\dakot\\AppData\\Local\\Programs\\Python\\Python311\\Lib\\site-packages\\sklearn\\neural_network\\_multilayer_perceptron.py:691: ConvergenceWarning: Stochastic Optimizer: Maximum iterations (50) reached and the optimization hasn't converged yet.\n",
      "  warnings.warn(\n"
     ]
    }
   ],
   "source": [
    "#lets build the model\n",
    "\n",
    "from sklearn.neural_network import MLPClassifier\n",
    "from sklearn.pipeline import make_pipeline\n",
    "\n",
    "mlp = make_pipeline(\n",
    "    preprocessor,\n",
    "    MLPClassifier(hidden_layer_sizes=(50,), max_iter=50, random_state=42)\n",
    ")\n",
    "mlp.fit(X_train, y_train)\n",
    "\n",
    "#print the accuracy\n",
    "y_pred = mlp.predict(X_test)\n",
    "accuracy = mlp.score(X_test, y_test)\n",
    "print(\"Accuracy:\", accuracy)"
   ]
  },
  {
   "cell_type": "code",
   "execution_count": 118,
   "id": "91f682ce",
   "metadata": {},
   "outputs": [],
   "source": [
    "#lets create a new sample to represent a potential rug line to bring in to the store\n",
    "#we will predict the probablility that is will sell in the first 60 days\n",
    "\n",
    "new_sample = pd.DataFrame({\n",
    "    'Invoice#': ['12345'],\n",
    "    'Date': ['2023-04-01'],\n",
    "    'Vendor': ['Karastan'],\n",
    "    'Collection': ['Sarajevo'],\n",
    "    'StyleNumber': ['12345'],\n",
    "    'SizeExact': ['8x10'],\n",
    "    'SizeGroup': ['8'],\n",
    "    'RedPrice': [800.0],\n",
    "    'Discount': [100.0],\n",
    "    'SalePrice': [700.0],\n",
    "    'InvoiceTotal': [700.0],\n",
    "    'StyleGroup': ['Contemporary'],\n",
    "    'StyleGroup2': ['Modern'],\n",
    "    'DomColor': ['Red'],\n",
    "    'MinColor': ['Blue'],\n",
    "    'ConstructionType': ['MM'],\n",
    "    'Material': ['polyester'],\n",
    "    'Pad': [0],\n",
    "    'S/O': ['S'],\n",
    "})"
   ]
  },
  {
   "cell_type": "code",
   "execution_count": 119,
   "id": "e55e73b5",
   "metadata": {},
   "outputs": [
    {
     "name": "stdout",
     "output_type": "stream",
     "text": [
      "Predicted probability of sale in the first 60 days: 17.88%\n"
     ]
    }
   ],
   "source": [
    "probability = mlp.predict_proba(new_sample)[:, 1][0]\n",
    "print(f'Predicted probability of sale in the first 60 days: {probability * 100:.2f}%')"
   ]
  }
 ],
 "metadata": {
  "kernelspec": {
   "display_name": "Python 3",
   "language": "python",
   "name": "python3"
  },
  "language_info": {
   "codemirror_mode": {
    "name": "ipython",
    "version": 3
   },
   "file_extension": ".py",
   "mimetype": "text/x-python",
   "name": "python",
   "nbconvert_exporter": "python",
   "pygments_lexer": "ipython3",
   "version": "3.11.3"
  }
 },
 "nbformat": 4,
 "nbformat_minor": 5
}
